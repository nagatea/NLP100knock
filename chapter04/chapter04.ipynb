{
 "cells": [
  {
   "cell_type": "markdown",
   "metadata": {},
   "source": [
    " # 第4章: 形態素解析\n",
    " 夏目漱石の小説『吾輩は猫である』の文章（neko.txt）をMeCabを使って形態素解析し，その結果をneko.txt.mecabというファイルに保存せよ．このファイルを用いて，以下の問に対応するプログラムを実装せよ．\n",
    " なお，問題37, 38, 39はmatplotlibもしくはGnuplotを用いるとよい．\n",
    " ## 30. 形態素解析結果の読み込み\n",
    " 形態素解析結果（neko.txt.mecab）を読み込むプログラムを実装せよ．ただし，各形態素は表層形（surface），基本形（base），品詞（pos），品詞細分類1（pos1）をキーとするマッピング型に格納し，1文を形態素（マッピング型）のリストとして表現せよ．第4章の残りの問題では，ここで作ったプログラムを活用せよ．"
   ]
  },
  {
   "cell_type": "code",
   "execution_count": 1,
   "metadata": {},
   "outputs": [
    {
     "data": {
      "text/plain": [
       "[{'surface': '一', 'base': '一', 'pos': '名詞', 'pos1': '数'},\n",
       " {'surface': '\\u3000', 'base': '\\u3000', 'pos': '記号', 'pos1': '空白'},\n",
       " {'surface': '吾輩', 'base': '吾輩', 'pos': '名詞', 'pos1': '代名詞'},\n",
       " {'surface': 'は', 'base': 'は', 'pos': '助詞', 'pos1': '係助詞'},\n",
       " {'surface': '猫', 'base': '猫', 'pos': '名詞', 'pos1': '一般'},\n",
       " {'surface': 'で', 'base': 'だ', 'pos': '助動詞', 'pos1': '*'},\n",
       " {'surface': 'ある', 'base': 'ある', 'pos': '助動詞', 'pos1': '*'},\n",
       " {'surface': '。', 'base': '。', 'pos': '記号', 'pos1': '句点'},\n",
       " {'surface': '名前', 'base': '名前', 'pos': '名詞', 'pos1': '一般'},\n",
       " {'surface': 'は', 'base': 'は', 'pos': '助詞', 'pos1': '係助詞'},\n",
       " {'surface': 'まだ', 'base': 'まだ', 'pos': '副詞', 'pos1': '助詞類接続'},\n",
       " {'surface': '無い', 'base': '無い', 'pos': '形容詞', 'pos1': '自立'},\n",
       " {'surface': '。', 'base': '。', 'pos': '記号', 'pos1': '句点'},\n",
       " {'surface': '\\u3000', 'base': '\\u3000', 'pos': '記号', 'pos1': '空白'},\n",
       " {'surface': 'どこ', 'base': 'どこ', 'pos': '名詞', 'pos1': '代名詞'},\n",
       " {'surface': 'で', 'base': 'で', 'pos': '助詞', 'pos1': '格助詞'},\n",
       " {'surface': '生れ', 'base': '生れる', 'pos': '動詞', 'pos1': '自立'},\n",
       " {'surface': 'た', 'base': 'た', 'pos': '助動詞', 'pos1': '*'},\n",
       " {'surface': 'か', 'base': 'か', 'pos': '助詞', 'pos1': '副助詞／並立助詞／終助詞'},\n",
       " {'surface': 'とんと', 'base': 'とんと', 'pos': '副詞', 'pos1': '一般'},\n",
       " {'surface': '見当', 'base': '見当', 'pos': '名詞', 'pos1': 'サ変接続'},\n",
       " {'surface': 'が', 'base': 'が', 'pos': '助詞', 'pos1': '格助詞'},\n",
       " {'surface': 'つか', 'base': 'つく', 'pos': '動詞', 'pos1': '自立'},\n",
       " {'surface': 'ぬ', 'base': 'ぬ', 'pos': '助動詞', 'pos1': '*'},\n",
       " {'surface': '。', 'base': '。', 'pos': '記号', 'pos1': '句点'},\n",
       " {'surface': '何', 'base': '何', 'pos': '名詞', 'pos1': '代名詞'},\n",
       " {'surface': 'でも', 'base': 'でも', 'pos': '助詞', 'pos1': '副助詞'},\n",
       " {'surface': '薄暗い', 'base': '薄暗い', 'pos': '形容詞', 'pos1': '自立'},\n",
       " {'surface': 'じめじめ', 'base': 'じめじめ', 'pos': '副詞', 'pos1': '一般'},\n",
       " {'surface': 'し', 'base': 'する', 'pos': '動詞', 'pos1': '自立'},\n",
       " {'surface': 'た', 'base': 'た', 'pos': '助動詞', 'pos1': '*'},\n",
       " {'surface': '所', 'base': '所', 'pos': '名詞', 'pos1': '非自立'},\n",
       " {'surface': 'で', 'base': 'で', 'pos': '助詞', 'pos1': '格助詞'},\n",
       " {'surface': 'ニャーニャー', 'base': 'ニャーニャー', 'pos': '名詞', 'pos1': '一般'},\n",
       " {'surface': '泣い', 'base': '泣く', 'pos': '動詞', 'pos1': '自立'},\n",
       " {'surface': 'て', 'base': 'て', 'pos': '助詞', 'pos1': '接続助詞'},\n",
       " {'surface': 'いた事', 'base': 'いた事', 'pos': '名詞', 'pos1': '一般'},\n",
       " {'surface': 'だけ', 'base': 'だけ', 'pos': '助詞', 'pos1': '副助詞'},\n",
       " {'surface': 'は', 'base': 'は', 'pos': '助詞', 'pos1': '係助詞'},\n",
       " {'surface': '記憶', 'base': '記憶', 'pos': '名詞', 'pos1': 'サ変接続'},\n",
       " {'surface': 'し', 'base': 'する', 'pos': '動詞', 'pos1': '自立'},\n",
       " {'surface': 'て', 'base': 'て', 'pos': '助詞', 'pos1': '接続助詞'},\n",
       " {'surface': 'いる', 'base': 'いる', 'pos': '動詞', 'pos1': '非自立'},\n",
       " {'surface': '。', 'base': '。', 'pos': '記号', 'pos1': '句点'},\n",
       " {'surface': '吾輩', 'base': '吾輩', 'pos': '名詞', 'pos1': '代名詞'},\n",
       " {'surface': 'は', 'base': 'は', 'pos': '助詞', 'pos1': '係助詞'},\n",
       " {'surface': 'ここ', 'base': 'ここ', 'pos': '名詞', 'pos1': '代名詞'},\n",
       " {'surface': 'で', 'base': 'で', 'pos': '助詞', 'pos1': '格助詞'},\n",
       " {'surface': '始め', 'base': '始める', 'pos': '動詞', 'pos1': '自立'},\n",
       " {'surface': 'て', 'base': 'て', 'pos': '助詞', 'pos1': '接続助詞'}]"
      ]
     },
     "execution_count": 1,
     "metadata": {},
     "output_type": "execute_result"
    }
   ],
   "source": [
    "res = []\n",
    "with open('neko.txt.mecab') as f:\n",
    "  for line in f:\n",
    "    tmp = line.split('\\t')\n",
    "    if tmp[0] == 'EOS\\n':\n",
    "      continue\n",
    "    surface = tmp[0]\n",
    "    word = tmp[1].split(',')\n",
    "    if word[6] == '*\\n':\n",
    "      base = surface\n",
    "    else:\n",
    "      base = word[6]\n",
    "    dic = {\n",
    "      'surface': surface,\n",
    "      'base': base,\n",
    "      'pos': word[0],\n",
    "      'pos1': word[1]\n",
    "    }\n",
    "    res.append(dic)\n",
    "\n",
    "res[0:50]"
   ]
  },
  {
   "cell_type": "markdown",
   "metadata": {},
   "source": [
    "----"
   ]
  },
  {
   "cell_type": "markdown",
   "metadata": {},
   "source": [
    " ## 31. 動詞\n",
    " 動詞の表層形をすべて抽出せよ．\n",
    " ### 方針\n",
    " * posが動詞になっているもののsurfaceをリスト化する"
   ]
  },
  {
   "cell_type": "code",
   "execution_count": 2,
   "metadata": {},
   "outputs": [
    {
     "data": {
      "text/plain": [
       "['生れ',\n",
       " 'つか',\n",
       " 'し',\n",
       " '泣い',\n",
       " 'し',\n",
       " 'いる',\n",
       " '始め',\n",
       " '見',\n",
       " '聞く',\n",
       " '捕え',\n",
       " '煮',\n",
       " '食う',\n",
       " '思わ',\n",
       " '載せ',\n",
       " 'られ',\n",
       " '持ち上げ',\n",
       " 'られ',\n",
       " 'し',\n",
       " 'あっ',\n",
       " '落ちつい',\n",
       " '見',\n",
       " '見',\n",
       " '思っ',\n",
       " '残っ',\n",
       " 'いる',\n",
       " 'さ',\n",
       " 'れ',\n",
       " 'し',\n",
       " '逢っ',\n",
       " '出会わ',\n",
       " 'し',\n",
       " 'のみ',\n",
       " 'なら',\n",
       " 'し',\n",
       " 'いる',\n",
       " '吹く',\n",
       " 'せ',\n",
       " '弱っ',\n",
       " '飲む',\n",
       " '知っ',\n",
       " '坐っ',\n",
       " 'おっ',\n",
       " 'する',\n",
       " 'し',\n",
       " '始め',\n",
       " '動く',\n",
       " '動く',\n",
       " '分ら',\n",
       " '廻る',\n",
       " 'なる']"
      ]
     },
     "execution_count": 2,
     "metadata": {},
     "output_type": "execute_result"
    }
   ],
   "source": [
    "import common04\n",
    "word_list = common04.get_neko_mecab()\n",
    "res = [word['surface'] for word in word_list if word['pos'] == '動詞']\n",
    "res[0:50]"
   ]
  },
  {
   "cell_type": "markdown",
   "metadata": {},
   "source": [
    "----"
   ]
  },
  {
   "cell_type": "markdown",
   "metadata": {},
   "source": [
    " ## 32. 動詞の原形\n",
    " 動詞の原形をすべて抽出せよ．\n",
    " ### 方針\n",
    " * posが動詞になっているもののsurfaceをリスト化する"
   ]
  },
  {
   "cell_type": "code",
   "execution_count": 3,
   "metadata": {},
   "outputs": [
    {
     "data": {
      "text/plain": [
       "['生れる',\n",
       " 'つく',\n",
       " 'する',\n",
       " '泣く',\n",
       " 'する',\n",
       " 'いる',\n",
       " '始める',\n",
       " '見る',\n",
       " '聞く',\n",
       " '捕える',\n",
       " '煮る',\n",
       " '食う',\n",
       " '思う',\n",
       " '載せる',\n",
       " 'られる',\n",
       " '持ち上げる',\n",
       " 'られる',\n",
       " 'する',\n",
       " 'ある',\n",
       " '落ちつく',\n",
       " '見る',\n",
       " '見る',\n",
       " '思う',\n",
       " '残る',\n",
       " 'いる',\n",
       " 'する',\n",
       " 'れる',\n",
       " 'する',\n",
       " '逢う',\n",
       " '出会う',\n",
       " 'する',\n",
       " 'のむ',\n",
       " 'なる',\n",
       " 'する',\n",
       " 'いる',\n",
       " '吹く',\n",
       " 'する',\n",
       " '弱る',\n",
       " '飲む',\n",
       " '知る',\n",
       " '坐る',\n",
       " 'おる',\n",
       " 'する',\n",
       " 'する',\n",
       " '始める',\n",
       " '動く',\n",
       " '動く',\n",
       " '分る',\n",
       " '廻る',\n",
       " 'なる']"
      ]
     },
     "execution_count": 3,
     "metadata": {},
     "output_type": "execute_result"
    }
   ],
   "source": [
    "import common04\n",
    "word_list = common04.get_neko_mecab()\n",
    "res = [word['base'] for word in word_list if word['pos'] == '動詞']\n",
    "res[0:50]"
   ]
  },
  {
   "cell_type": "markdown",
   "metadata": {},
   "source": [
    "----"
   ]
  },
  {
   "cell_type": "markdown",
   "metadata": {},
   "source": [
    " ## 33. サ変名詞\n",
    " サ変接続の名詞をすべて抽出せよ．\n",
    " ### 方針\n",
    " * pos1がサ変接続になっているもののbaseをリスト化する"
   ]
  },
  {
   "cell_type": "code",
   "execution_count": 4,
   "metadata": {},
   "outputs": [
    {
     "data": {
      "text/plain": [
       "['見当',\n",
       " '記憶',\n",
       " '話',\n",
       " '装飾',\n",
       " '突起',\n",
       " '運転',\n",
       " '記憶',\n",
       " '分別',\n",
       " '決心',\n",
       " '我慢',\n",
       " '餓死',\n",
       " '訪問',\n",
       " '始末',\n",
       " '猶予',\n",
       " '遭遇',\n",
       " '我慢',\n",
       " '記憶',\n",
       " '返報',\n",
       " '勉強',\n",
       " '勉強',\n",
       " '昼寝',\n",
       " '珍重',\n",
       " '昼寝',\n",
       " '経験',\n",
       " '供',\n",
       " '供',\n",
       " '供',\n",
       " '供',\n",
       " '——',\n",
       " '——',\n",
       " '同居',\n",
       " '観察',\n",
       " '断言',\n",
       " '同衾',\n",
       " '供',\n",
       " '迫害',\n",
       " '尊敬',\n",
       " '生活',\n",
       " '剿滅',\n",
       " '議論',\n",
       " '所有',\n",
       " '憤慨',\n",
       " '観念',\n",
       " '御馳走',\n",
       " '掠奪',\n",
       " '代言',\n",
       " '我儘',\n",
       " '我儘',\n",
       " '失敗',\n",
       " '話']"
      ]
     },
     "execution_count": 4,
     "metadata": {},
     "output_type": "execute_result"
    }
   ],
   "source": [
    "import common04\n",
    "word_list = common04.get_neko_mecab()\n",
    "res = [word['base'] for word in word_list if word['pos1'] == 'サ変接続']\n",
    "res[0:50]"
   ]
  },
  {
   "cell_type": "markdown",
   "metadata": {},
   "source": [
    "----"
   ]
  },
  {
   "cell_type": "markdown",
   "metadata": {},
   "source": [
    " ## 34. 「AのB」\n",
    " 2つの名詞が「の」で連結されている名詞句を抽出せよ．\n",
    " ### 方針\n",
    " * 配列の$i$,$i+1$,$i+2$で「名詞、の、名詞」となってるのを配列に追加していく"
   ]
  },
  {
   "cell_type": "code",
   "execution_count": 5,
   "metadata": {},
   "outputs": [
    {
     "data": {
      "text/plain": [
       "['彼の掌',\n",
       " '掌の上',\n",
       " '書生の顔',\n",
       " 'はずの顔',\n",
       " '顔の真中',\n",
       " '穴の中',\n",
       " '書生の掌',\n",
       " '掌の裏',\n",
       " '何の事',\n",
       " '肝心の母親',\n",
       " '藁の上',\n",
       " '笹原の中',\n",
       " '池の前',\n",
       " '池の上',\n",
       " '一樹の蔭',\n",
       " '垣根の穴',\n",
       " '隣家の三',\n",
       " '時の通路',\n",
       " '一刻の猶予',\n",
       " '家の内',\n",
       " '彼の書生',\n",
       " '以外の人間',\n",
       " '前の書生',\n",
       " 'おさんの隙',\n",
       " 'おさんの三',\n",
       " '胸の痞',\n",
       " '家の主人',\n",
       " '主人の方',\n",
       " '鼻の下',\n",
       " '吾輩の顔',\n",
       " '自分の住',\n",
       " '吾輩の主人',\n",
       " '家のもの',\n",
       " 'うちのもの',\n",
       " '彼の書斎',\n",
       " '本の上',\n",
       " '皮膚の色',\n",
       " '本の上',\n",
       " '彼の毎夜',\n",
       " '以外のもの',\n",
       " '主人の傍',\n",
       " '彼の膝',\n",
       " '膝の上',\n",
       " '経験の上',\n",
       " '飯櫃の上',\n",
       " '炬燵の上',\n",
       " 'ここのうち',\n",
       " '供の寝床',\n",
       " '彼等の中間',\n",
       " '供の一']"
      ]
     },
     "execution_count": 5,
     "metadata": {},
     "output_type": "execute_result"
    }
   ],
   "source": [
    "import common04\n",
    "word_list = common04.get_neko_mecab()\n",
    "\n",
    "res = []\n",
    "for i in range(len(word_list)-2):\n",
    "  word1 = word_list[i]\n",
    "  word2 = word_list[i+1]\n",
    "  word3 = word_list[i+2]\n",
    "  if word1['pos'] == '名詞' and word2['surface'] == 'の' and word3['pos'] == '名詞':\n",
    "    res.append(word1['surface'] + word2['surface'] + word3['surface'])\n",
    "\n",
    "res[0:50]"
   ]
  },
  {
   "cell_type": "markdown",
   "metadata": {},
   "source": [
    "----"
   ]
  },
  {
   "cell_type": "markdown",
   "metadata": {},
   "source": [
    " ## 35. 名詞の連接\n",
    " 名詞の連接（連続して出現する名詞）を最長一致で抽出せよ．\n",
    " ### 方針\n",
    " * 名詞が来たら保持しつづけ、名詞が来なかったら配列につっこむ"
   ]
  },
  {
   "cell_type": "code",
   "execution_count": 6,
   "metadata": {},
   "outputs": [
    {
     "data": {
      "text/plain": [
       "[['人間', '中'],\n",
       " ['一番', '獰悪'],\n",
       " ['時', '妙'],\n",
       " ['一', '毛'],\n",
       " ['その後', '猫'],\n",
       " ['一', '度'],\n",
       " ['ぷうぷうと', '煙'],\n",
       " ['邸', '内'],\n",
       " ['三', '毛'],\n",
       " ['書生', '以外'],\n",
       " ['四', '五', '遍'],\n",
       " ['この間', 'おさん'],\n",
       " ['三', '馬'],\n",
       " ['御台', '所'],\n",
       " ['まま', '奥'],\n",
       " ['住', '家'],\n",
       " ['終日', '書斎'],\n",
       " ['勉強', '家'],\n",
       " ['勉強', '家'],\n",
       " ['勤勉', '家'],\n",
       " ['二', '三', 'ページ'],\n",
       " ['主人', '以外'],\n",
       " ['限り', '吾輩'],\n",
       " ['朝', '主人'],\n",
       " ['一番', '心持'],\n",
       " ['二', '人'],\n",
       " ['一つ', '床'],\n",
       " ['一', '人'],\n",
       " ['最後', '大変'],\n",
       " ['——', '猫'],\n",
       " ['神経', '胃弱', '性'],\n",
       " ['物', '指'],\n",
       " ['尻', 'ぺたをひどく'],\n",
       " ['言語', '同断'],\n",
       " ['家内', '総', 'がかり'],\n",
       " ['筋', '向'],\n",
       " ['白', '君'],\n",
       " ['度', '毎'],\n",
       " ['白', '君'],\n",
       " ['先日', '玉'],\n",
       " ['四', '疋'],\n",
       " ['三', '日', '目'],\n",
       " ['四', '疋'],\n",
       " ['白', '君'],\n",
       " ['我', '等', '猫', '族'],\n",
       " ['家族', '的', '生活'],\n",
       " ['三', '毛', '君'],\n",
       " ['所有', '権'],\n",
       " ['我々', '同族', '間'],\n",
       " ['目', '刺']]"
      ]
     },
     "execution_count": 6,
     "metadata": {},
     "output_type": "execute_result"
    }
   ],
   "source": [
    "import common04\n",
    "word_list = common04.get_neko_mecab()\n",
    "\n",
    "tmp = []\n",
    "res = []\n",
    "for word in word_list:\n",
    "  if word['pos'] == '名詞':\n",
    "    tmp.append(word['surface'])\n",
    "  else:\n",
    "    if not tmp:\n",
    "      continue\n",
    "    elif len(tmp) == 1:\n",
    "      tmp = []\n",
    "    else:\n",
    "      res.append(tmp)\n",
    "      tmp = []\n",
    "\n",
    "res[0:50]"
   ]
  },
  {
   "cell_type": "markdown",
   "metadata": {},
   "source": [
    "----"
   ]
  },
  {
   "cell_type": "markdown",
   "metadata": {},
   "source": [
    " ## 36. 単語の出現頻度\n",
    " 文章中に出現する単語とその出現頻度を求め，出現頻度の高い順に並べよ．\n",
    " ### 方針\n",
    " * ~~単語を全部`set`につっこんで、`set`の要素ごとに`count()`を走らせる~~\n",
    "   * めちゃ遅そう\n",
    "   * 遅かった\n",
    " * wordが存在したらcountを+1、なかったら新しく追加"
   ]
  },
  {
   "cell_type": "code",
   "execution_count": 7,
   "metadata": {},
   "outputs": [
    {
     "data": {
      "text/plain": [
       "[('の', 9194),\n",
       " ('。', 7486),\n",
       " ('て', 6848),\n",
       " ('、', 6772),\n",
       " ('は', 6420),\n",
       " ('に', 6243),\n",
       " ('を', 6071),\n",
       " ('だ', 5975),\n",
       " ('と', 5508),\n",
       " ('が', 5337),\n",
       " ('た', 4267),\n",
       " ('する', 3657),\n",
       " ('「', 3231),\n",
       " ('」', 3225),\n",
       " ('ない', 3052),\n",
       " ('も', 2479),\n",
       " ('ある', 2320),\n",
       " ('で', 2081),\n",
       " ('から', 2031),\n",
       " ('いる', 1777),\n",
       " ('ん', 1568),\n",
       " ('か', 1529),\n",
       " ('云う', 1408),\n",
       " ('事', 1207),\n",
       " ('です', 1164),\n",
       " ('ます', 1146),\n",
       " ('なる', 1120),\n",
       " ('へ', 1034),\n",
       " ('う', 987),\n",
       " ('もの', 981),\n",
       " ('君', 973),\n",
       " ('主人', 932),\n",
       " ('ぬ', 719),\n",
       " ('よう', 696),\n",
       " ('見る', 675),\n",
       " ('ね', 657),\n",
       " ('この', 649),\n",
       " ('御', 636),\n",
       " ('ば', 617),\n",
       " ('人', 602),\n",
       " ('その', 576),\n",
       " ('一', 554),\n",
       " ('そう', 546),\n",
       " ('何', 539),\n",
       " ('思う', 502),\n",
       " ('よ', 502),\n",
       " ('吾輩', 481),\n",
       " ('来る', 460),\n",
       " ('れる', 450),\n",
       " ('じゃ', 450)]"
      ]
     },
     "execution_count": 7,
     "metadata": {},
     "output_type": "execute_result"
    }
   ],
   "source": [
    "import common04\n",
    "word_list = [word['base'] for word in common04.get_neko_mecab()]\n",
    "res = {}\n",
    "for word in word_list:\n",
    "  if word in res:\n",
    "    res[word] += 1\n",
    "  else:\n",
    "    res[word] = 1\n",
    "\n",
    "sorted(res.items(), key=lambda x:x[1], reverse=True)[0:50]"
   ]
  },
  {
   "cell_type": "markdown",
   "metadata": {},
   "source": [
    "----"
   ]
  },
  {
   "cell_type": "markdown",
   "metadata": {},
   "source": [
    " ## 37. 頻度上位10語\n",
    " 出現頻度が高い10語とその出現頻度をグラフ（例えば棒グラフなど）で表示せよ．\n",
    " ### 方針\n",
    " * 36を流用\n",
    " * `plt.bar()`で棒グラフ作成"
   ]
  },
  {
   "cell_type": "code",
   "execution_count": 8,
   "metadata": {},
   "outputs": [],
   "source": [
    "import common04\n",
    "word_list = [word['base'] for word in common04.get_neko_mecab()]\n",
    "res = {}\n",
    "for word in word_list:\n",
    "  if word in res:\n",
    "    res[word] += 1\n",
    "  else:\n",
    "    res[word] = 1\n",
    "\n",
    "famous_words = sorted(res.items(), key=lambda x:x[1], reverse=True)[0:10]"
   ]
  },
  {
   "cell_type": "code",
   "execution_count": 9,
   "metadata": {},
   "outputs": [
    {
     "data": {
      "text/plain": [
       "<BarContainer object of 10 artists>"
      ]
     },
     "execution_count": 9,
     "metadata": {},
     "output_type": "execute_result"
    }
   ],
   "source": [
    "import matplotlib.pyplot as plt\n",
    "font = {'family':'AppleGothic'}\n",
    "plt.rc('font', **font)\n",
    "\n",
    "word_list = []\n",
    "count_list = []\n",
    "for (word, count) in famous_words:\n",
    "  word_list.append(word)\n",
    "  count_list.append(count)\n",
    "\n",
    "plt.bar(word_list, count_list)"
   ]
  },
  {
   "cell_type": "markdown",
   "metadata": {},
   "source": [
    "----"
   ]
  },
  {
   "cell_type": "markdown",
   "metadata": {},
   "source": [
    " ## 38. ヒストグラム\n",
    " 単語の出現頻度のヒストグラム（横軸に出現頻度，縦軸に出現頻度をとる単語の種類数を棒グラフで表したもの）を描け．\n",
    "## 方針\n",
    " * 36を流用\n",
    " * `plt.hist()`でヒストグラム作成"
   ]
  },
  {
   "cell_type": "code",
   "execution_count": 10,
   "metadata": {},
   "outputs": [],
   "source": [
    "import common04\n",
    "word_list = [word['base'] for word in common04.get_neko_mecab()]\n",
    "res = {}\n",
    "for word in word_list:\n",
    "  if word in res:\n",
    "    res[word] += 1\n",
    "  else:\n",
    "    res[word] = 1\n",
    "\n",
    "words = sorted(res.items(), key=lambda x:x[1], reverse=True)\n",
    "count_list = [word[1] for word in words]"
   ]
  },
  {
   "cell_type": "code",
   "execution_count": 11,
   "metadata": {},
   "outputs": [
    {
     "data": {
      "text/plain": [
       "(array([1.1915e+04, 1.3000e+01, 4.0000e+00, 4.0000e+00, 1.0000e+00,\n",
       "        2.0000e+00, 4.0000e+00, 2.0000e+00, 1.0000e+00, 1.0000e+00]),\n",
       " array([1.0000e+00, 9.2030e+02, 1.8396e+03, 2.7589e+03, 3.6782e+03,\n",
       "        4.5975e+03, 5.5168e+03, 6.4361e+03, 7.3554e+03, 8.2747e+03,\n",
       "        9.1940e+03]),\n",
       " <a list of 10 Patch objects>)"
      ]
     },
     "execution_count": 11,
     "metadata": {},
     "output_type": "execute_result"
    },
    {
     "data": {
      "image/png": "[encoded data removed]",
      "text/plain": [
       "<Figure size 432x288 with 1 Axes>"
      ]
     },
     "metadata": {
      "needs_background": "light"
     },
     "output_type": "display_data"
    }
   ],
   "source": [
    "import numpy as np\n",
    "import matplotlib.pyplot as plt\n",
    "\n",
    "plt.hist(np.array(count_list))"
   ]
  },
  {
   "cell_type": "markdown",
   "metadata": {},
   "source": [
    " 10以下が多すぎて図の意味をなしていないので、10以下でもう一回計算"
   ]
  },
  {
   "cell_type": "code",
   "execution_count": 12,
   "metadata": {},
   "outputs": [
    {
     "data": {
      "text/plain": [
       "(array([5178., 2011.,  987.,  630.,  474.,  344.,  250.,  213.,  161.,\n",
       "         127.]),\n",
       " array([ 1. ,  1.9,  2.8,  3.7,  4.6,  5.5,  6.4,  7.3,  8.2,  9.1, 10. ]),\n",
       " <a list of 10 Patch objects>)"
      ]
     },
     "execution_count": 12,
     "metadata": {},
     "output_type": "execute_result"
    },
    {
     "data": {
      "image/png": "[encoded data removed]",
      "text/plain": [
       "<Figure size 432x288 with 1 Axes>"
      ]
     },
     "metadata": {
      "needs_background": "light"
     },
     "output_type": "display_data"
    }
   ],
   "source": [
    "count_list = [count for count in count_list if count <= 10]\n",
    "plt.hist(np.array(count_list))"
   ]
  },
  {
   "cell_type": "markdown",
   "metadata": {},
   "source": [
    "----"
   ]
  },
  {
   "cell_type": "markdown",
   "metadata": {},
   "source": [
    " ## 39. Zipfの法則\n",
    " 単語の出現頻度順位を横軸，その出現頻度を縦軸として，両対数グラフをプロットせよ．\n",
    " ### 方針\n",
    " * 36を流用(順位はインデックスの番号)\n",
    " * 対数グラフは`plt.xscale('log')`, `plt.yscale('log')`"
   ]
  },
  {
   "cell_type": "code",
   "execution_count": 13,
   "metadata": {},
   "outputs": [],
   "source": [
    "import common04\n",
    "word_list = [word['base'] for word in common04.get_neko_mecab()]\n",
    "res = {}\n",
    "for word in word_list:\n",
    "  if word in res:\n",
    "    res[word] += 1\n",
    "  else:\n",
    "    res[word] = 1\n",
    "\n",
    "words = sorted(res.items(), key=lambda x:x[1], reverse=True)\n",
    "index_list = [i+1 for i in range(len(words))]\n",
    "count_list = [count for (word, count) in words]"
   ]
  },
  {
   "cell_type": "code",
   "execution_count": 14,
   "metadata": {},
   "outputs": [
    {
     "data": {
      "text/plain": [
       "[<matplotlib.lines.Line2D at 0x107e727b8>]"
      ]
     },
     "execution_count": 14,
     "metadata": {},
     "output_type": "execute_result"
    },
    {
     "data": {
      "image/png": "[encoded data removed]",
      "text/plain": [
       "<Figure size 432x288 with 1 Axes>"
      ]
     },
     "metadata": {
      "needs_background": "light"
     },
     "output_type": "display_data"
    }
   ],
   "source": [
    "import numpy as np\n",
    "import matplotlib.pyplot as plt\n",
    "\n",
    "plt.xscale('log')\n",
    "plt.yscale('log')\n",
    "plt.xlabel('index')\n",
    "plt.ylabel('count')\n",
    "\n",
    "plt.plot(np.array(index_list), np.array(count_list))\n"
   ]
  }
 ],
 "metadata": {
  "file_extension": ".py",
  "kernelspec": {
   "display_name": "Python 3",
   "language": "python",
   "name": "python3"
  },
  "language_info": {
   "codemirror_mode": {
    "name": "ipython",
    "version": 3
   },
   "file_extension": ".py",
   "mimetype": "text/x-python",
   "name": "python",
   "nbconvert_exporter": "python",
   "pygments_lexer": "ipython3",
   "version": "3.7.0"
  },
  "mimetype": "text/x-python",
  "name": "python",
  "npconvert_exporter": "python",
  "pygments_lexer": "ipython3",
  "version": 3
 },
 "nbformat": 4,
 "nbformat_minor": 2
}
