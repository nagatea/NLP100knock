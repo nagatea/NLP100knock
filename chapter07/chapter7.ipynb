{
 "cells": [
  {
   "cell_type": "markdown",
   "metadata": {},
   "source": [
    " # 第7章: データベース\n",
    " artist.json.gzは，オープンな音楽データベースMusicBrainzの中で，アーティストに関するものをJSON形式に変換し，gzip形式で圧縮したファイルである．このファイルには，1アーティストに関する情報が1行にJSON形式で格納されている．JSON形式の概要は以下の通りである．\n",
    "\n",
    " |フィールド|型|内容|例|\n",
    " |---|---|---|---|\n",
    " |id|ユニーク識別子|整数|20660|\n",
    " |gid|グローバル識別子|文字列|\"ecf9f3a3-35e9-4c58-acaa-e707fba45060\"|\n",
    " |name|アーティスト名|文字列|\"Oasis\"|\n",
    " |sort_name|アーティスト名（辞書順整列用）|文字列|\"Oasis\"|\n",
    " |area|活動場所|文字列|\"United Kingdom\"|\n",
    " |aliases|別名|辞書オブジェクトのリスト||\n",
    " |aliases[].name|別名|文字列|\"オアシス\"|\n",
    " |aliases[].sort_name|別名（整列用）|文字列|\"オアシス\"|\n",
    " |begin|活動開始日|辞書||\n",
    " |begin.year|活動開始年|整数|1991|\n",
    " |begin.month|活動開始月|整数||\n",
    " |begin.date|活動開始日|整数||\n",
    " |end|活動終了日|辞書||\n",
    " |end.year|活動終了年|整数|2009|\n",
    " |end.month|活動終了月|整数|8|\n",
    " |end.date|活動終了日|整数|28|\n",
    " |tags|タグ|辞書オブジェクトのリスト||\n",
    " |tags[].count|タグ付けされた回数|整数|1|\n",
    " |tags[].value|タグ内容|文字列|\"rock\"|\n",
    " |rating|レーティング|辞書オブジェクト||\n",
    " |rating.count|レーティングの投票数|整数|13|\n",
    " |rating.value|レーティングの値（平均値）|整数|86|"
   ]
  },
  {
   "cell_type": "markdown",
   "metadata": {},
   "source": [
    "----"
   ]
  },
  {
   "cell_type": "markdown",
   "metadata": {},
   "source": [
    " ## 60. KVSの構築\n",
    " Key-Value-Store (KVS) を用い，アーティスト名（name）から活動場所（area）を検索するためのデータベースを構築せよ．\n",
    "\n",
    " ### 手順\n",
    " * KVSとして`Redis`を使います\n",
    " * `$ brew install redis`\n",
    " * `$ brew services start redis`\n",
    " * `$ redis-cli`で起動されているかどうかとポート番号がわかる\n",
    " * pythonのライブラリは`redis-py`を使う\n",
    " * `$ pip install redis`\n",
    " * `name => area`のデータベースを構築する\n",
    " * nameが重複しているデータが複数ある？\n",
    "   * nameは一意だと思っていたが、同じアーティスト名で活動してる別なアーティストがいるらしい\n",
    "     * 例: Queen\n",
    "   * idでプレフィックスをつけることにした"
   ]
  },
  {
   "cell_type": "code",
   "execution_count": 2,
   "metadata": {},
   "outputs": [],
   "source": [
    "import gzip\n",
    "import json\n",
    "import redis\n",
    "r = redis.Redis(host='localhost', port=6379, db=0)\n",
    "\n",
    "with gzip.open(\"artist.json.gz\", \"rt\") as f:\n",
    "  for line in f:\n",
    "    json_dict = json.loads(line)\n",
    "    if 'name' in json_dict:\n",
    "      r.set(f\"{json_dict['name']}:{json_dict.get('id', 0)}\", json_dict.get('area', ''))"
   ]
  },
  {
   "cell_type": "markdown",
   "metadata": {},
   "source": [
    "----"
   ]
  },
  {
   "cell_type": "markdown",
   "metadata": {},
   "source": [
    " ## 61. KVSの検索\n",
    " 60で構築したデータベースを用い，特定の（指定された）アーティストの活動場所を取得せよ．\n",
    " ### メモ\n",
    " * `$ redis-cli`\n",
    " * `$ get key`で対応したvalueが返ってくる\n",
    " * `$ keys word`でキーを高速に検索することができる\n",
    " * ~~`keys name:*`して出力されたkeyに対して`get key`する~~\n",
    " * `$ mget keys`でkeyを複数指定して一気に取ってこれるらしいのでこれを使う"
   ]
  },
  {
   "cell_type": "code",
   "execution_count": 3,
   "metadata": {},
   "outputs": [],
   "source": [
    "import redis\n",
    "\n",
    "def get_area(name):\n",
    "  r = redis.Redis(host='localhost', port=6379, db=0)\n",
    "  areas = r.mget(r.keys(f'{name}:*'))\n",
    "  return [x for x in set(areas) if x]"
   ]
  },
  {
   "cell_type": "code",
   "execution_count": 4,
   "metadata": {},
   "outputs": [
    {
     "data": {
      "text/plain": [
       "[b'United States', b'Netherlands']"
      ]
     },
     "execution_count": 4,
     "metadata": {},
     "output_type": "execute_result"
    }
   ],
   "source": [
    "get_area('The Silhouettes')"
   ]
  },
  {
   "cell_type": "code",
   "execution_count": 5,
   "metadata": {},
   "outputs": [
    {
     "data": {
      "text/plain": [
       "[b'United States']"
      ]
     },
     "execution_count": 5,
     "metadata": {},
     "output_type": "execute_result"
    }
   ],
   "source": [
    "get_area('Al Street')"
   ]
  },
  {
   "cell_type": "markdown",
   "metadata": {},
   "source": [
    "----"
   ]
  },
  {
   "cell_type": "markdown",
   "metadata": {},
   "source": [
    " ## 62. KVS内の反復処理\n",
    " 60で構築したデータベースを用い，活動場所が「Japan」となっているアーティスト数を求めよ．\n",
    " ### メモ\n",
    " * valueを検索するコマンドは無い => KVS内の反復処理\n",
    " * `$ keys *`で全件取得してvalueが`Japan`かどうかを判別するしかない\n",
    " * めちゃくちゃ時間がかかる"
   ]
  },
  {
   "cell_type": "code",
   "execution_count": 7,
   "metadata": {},
   "outputs": [
    {
     "data": {
      "text/plain": [
       "22821"
      ]
     },
     "execution_count": 7,
     "metadata": {},
     "output_type": "execute_result"
    }
   ],
   "source": [
    "import redis\n",
    "r = redis.Redis(host='localhost', port=6379, db=0)\n",
    "\n",
    "i = 0\n",
    "for key in r.keys():\n",
    "  if r.get(key) == b'Japan':\n",
    "    i += 1\n",
    "\n",
    "i"
   ]
  },
  {
   "cell_type": "markdown",
   "metadata": {},
   "source": [
    "----"
   ]
  },
  {
   "cell_type": "markdown",
   "metadata": {},
   "source": [
    " ## 63. オブジェクトを値に格納したKVS\n",
    " KVSを用い，アーティスト名（name）からタグと被タグ数（タグ付けされた回数）のリストを検索するためのデータベースを構築せよ．さらに，ここで構築したデータベースを用い，アーティスト名からタグと被タグ数を検索せよ．"
   ]
  },
  {
   "cell_type": "code",
   "execution_count": 9,
   "metadata": {},
   "outputs": [
    {
     "name": "stdout",
     "output_type": "stream",
     "text": [
      "0\n",
      "100000\n",
      "200000\n",
      "300000\n",
      "400000\n",
      "500000\n",
      "600000\n",
      "700000\n",
      "800000\n",
      "900000\n"
     ]
    }
   ],
   "source": [
    "import gzip\n",
    "import json\n",
    "import redis\n",
    "r = redis.Redis(host='localhost', port=6379, db=1)\n",
    "\n",
    "with gzip.open(\"artist.json.gz\", \"rt\") as f:\n",
    "  for (i, data) in enumerate(f):\n",
    "    json_dict = json.loads(data)\n",
    "    if i % 100000 == 0:\n",
    "      print(i)\n",
    "    if 'name' in json_dict:\n",
    "      tags = json_dict.get('tags', [{'count': 0, 'value': ''}])\n",
    "      count = 0\n",
    "      for tag in tags:\n",
    "        count += tag['count']\n",
    "      value = {\n",
    "        'tags': str([val['value'] for val in tags]),\n",
    "        'tagsCount': count\n",
    "      }\n",
    "      r.hmset(f\"{json_dict['name']}:{json_dict.get('id', 0)}\", value)"
   ]
  },
  {
   "cell_type": "code",
   "execution_count": 10,
   "metadata": {},
   "outputs": [
    {
     "data": {
      "text/plain": [
       "[{'tags': b\"['kamen rider w', 'related-akb48']\", 'count': 2},\n",
       " {'tags': b\"['hard rock', '70s', 'queen family', '90s', '80s', 'glam rock', 'british', 'english', 'uk', 'pop/rock', 'pop-rock', 'britannique', 'classic pop and rock', 'queen', 'united kingdom', 'langham 1 studio bbc', 'kind of magic', 'band', 'rock', 'platinum']\",\n",
       "  'count': 30}]"
      ]
     },
     "execution_count": 10,
     "metadata": {},
     "output_type": "execute_result"
    }
   ],
   "source": [
    "def get_tags(name):\n",
    "  r = redis.Redis(host='localhost', port=6379, db=1)\n",
    "  keys = r.keys(f'{name}:*')\n",
    "  res = []\n",
    "  for key in keys:\n",
    "    tags = r.hmget(key, 'tags', 'tagsCount')\n",
    "    if int(tags[1]) == 0:\n",
    "      continue\n",
    "    res.append({'tags': tags[0], 'count': int(tags[1])})\n",
    "  return res\n",
    "\n",
    "get_tags('Queen')"
   ]
  },
  {
   "cell_type": "markdown",
   "metadata": {},
   "source": [
    "----"
   ]
  },
  {
   "cell_type": "markdown",
   "metadata": {},
   "source": [
    " ## 64. MongoDBの構築\n",
    " アーティスト情報（artist.json.gz）をデータベースに登録せよ．さらに，次のフィールドでインデックスを作成せよ: name, aliases.name, tags.value, rating.value\n",
    " ### メモ\n",
    " * `$ brew install mongodb`\n",
    " * `$ brew services start mongodb`\n",
    " * connecting to: mongodb://127.0.0.1:27017\n",
    " * `pymongo`を使います\n",
    " * `$ pip install pymongo`"
   ]
  },
  {
   "cell_type": "code",
   "execution_count": 11,
   "metadata": {},
   "outputs": [
    {
     "name": "stdout",
     "output_type": "stream",
     "text": [
      "0\n",
      "10000\n",
      "20000\n",
      "30000\n",
      "40000\n",
      "50000\n",
      "60000\n",
      "70000\n",
      "80000\n",
      "90000\n",
      "100000\n",
      "110000\n",
      "120000\n",
      "130000\n",
      "140000\n",
      "150000\n",
      "160000\n",
      "170000\n",
      "180000\n",
      "190000\n",
      "200000\n",
      "210000\n",
      "220000\n",
      "230000\n",
      "240000\n",
      "250000\n",
      "260000\n",
      "270000\n",
      "280000\n",
      "290000\n",
      "300000\n",
      "310000\n",
      "320000\n",
      "330000\n",
      "340000\n",
      "350000\n",
      "360000\n",
      "370000\n",
      "380000\n",
      "390000\n",
      "400000\n",
      "410000\n",
      "420000\n",
      "430000\n",
      "440000\n",
      "450000\n",
      "460000\n",
      "470000\n",
      "480000\n",
      "490000\n",
      "500000\n",
      "510000\n",
      "520000\n",
      "530000\n",
      "540000\n",
      "550000\n",
      "560000\n",
      "570000\n",
      "580000\n",
      "590000\n",
      "600000\n",
      "610000\n",
      "620000\n",
      "630000\n",
      "640000\n",
      "650000\n",
      "660000\n",
      "670000\n",
      "680000\n",
      "690000\n",
      "700000\n",
      "710000\n",
      "720000\n",
      "730000\n",
      "740000\n",
      "750000\n",
      "760000\n",
      "770000\n",
      "780000\n",
      "790000\n",
      "800000\n",
      "810000\n",
      "820000\n",
      "830000\n",
      "840000\n",
      "850000\n",
      "860000\n",
      "870000\n",
      "880000\n",
      "890000\n",
      "900000\n",
      "910000\n",
      "920000\n",
      "921336\n"
     ]
    }
   ],
   "source": [
    "import gzip\n",
    "import json\n",
    "from pymongo import MongoClient\n",
    "client = MongoClient('localhost', 27017)\n",
    "db = client.nlp100\n",
    "col = db.artist\n",
    "\n",
    "# 存在した場合、初期化\n",
    "col.drop()\n",
    "\n",
    "with gzip.open(\"artist.json.gz\", \"rt\") as f:\n",
    "  batch = []\n",
    "  for (i, data) in enumerate(f):\n",
    "    # パフォーマンスを考えて、10000件ごとに格納していく\n",
    "    json_dict = json.loads(data)\n",
    "    batch.append(json_dict)\n",
    "    if i % 10000 == 0:\n",
    "      col.insert_many(batch)\n",
    "      print(i)\n",
    "      batch = []\n",
    "    \n",
    "  if len(batch) > 0:\n",
    "    col.insert_many(batch)\n",
    "    print(i)"
   ]
  },
  {
   "cell_type": "code",
   "execution_count": 12,
   "metadata": {},
   "outputs": [
    {
     "data": {
      "text/plain": [
       "['name_1', 'aliases.name_1', 'tags.value_1', 'rating.value_1']"
      ]
     },
     "execution_count": 12,
     "metadata": {},
     "output_type": "execute_result"
    }
   ],
   "source": [
    "from pymongo import IndexModel, ASCENDING\n",
    "col.create_indexes([\n",
    "  IndexModel([('name', ASCENDING)]),\n",
    "  IndexModel([('aliases.name', ASCENDING)]),\n",
    "  IndexModel([('tags.value', ASCENDING)]),\n",
    "  IndexModel([('rating.value', ASCENDING)])\n",
    "])"
   ]
  },
  {
   "cell_type": "code",
   "execution_count": 13,
   "metadata": {},
   "outputs": [
    {
     "data": {
      "text/plain": [
       "{'_id': ObjectId('5ce23f73506bf4ffeeb67837'),\n",
       " 'name': 'WIK▲N',\n",
       " 'tags': [{'count': 1, 'value': 'sillyname'}],\n",
       " 'sort_name': 'WIK▲N',\n",
       " 'ended': True,\n",
       " 'gid': '8972b1c1-6482-4750-b51f-596d2edea8b1',\n",
       " 'id': 805192}"
      ]
     },
     "execution_count": 13,
     "metadata": {},
     "output_type": "execute_result"
    }
   ],
   "source": [
    "col.find_one()"
   ]
  },
  {
   "cell_type": "markdown",
   "metadata": {},
   "source": [
    "----"
   ]
  },
  {
   "cell_type": "markdown",
   "metadata": {},
   "source": [
    " ## 65. MongoDBの検索\n",
    " MongoDBのインタラクティブシェルを用いて，`\"Queen\"`というアーティストに関する情報を取得せよ．さらに，これと同様の処理を行うプログラムを実装せよ．\n",
    " ## 操作\n",
    " * `$ mongo`\n",
    " * `> use nlp100`\n",
    " * `> db.artist.find({\"name\": \"Queen\"})`"
   ]
  },
  {
   "cell_type": "code",
   "execution_count": 14,
   "metadata": {},
   "outputs": [
    {
     "data": {
      "text/plain": [
       "[{'_id': ObjectId('5ce23fa8506bf4ffeebfaf5b'),\n",
       "  'name': 'Queen',\n",
       "  'area': 'Japan',\n",
       "  'gender': 'Female',\n",
       "  'tags': [{'count': 1, 'value': 'kamen rider w'},\n",
       "   {'count': 1, 'value': 'related-akb48'}],\n",
       "  'sort_name': 'Queen',\n",
       "  'ended': True,\n",
       "  'gid': '420ca290-76c5-41af-999e-564d7c71f1a7',\n",
       "  'type': 'Character',\n",
       "  'id': 701492,\n",
       "  'aliases': [{'name': 'Queen', 'sort_name': 'Queen'}]},\n",
       " {'_id': ObjectId('5ce23fab506bf4ffeec07607'),\n",
       "  'rating': {'count': 24, 'value': 92},\n",
       "  'begin': {'date': 27, 'month': 6, 'year': 1970},\n",
       "  'name': 'Queen',\n",
       "  'area': 'United Kingdom',\n",
       "  'tags': [{'count': 2, 'value': 'hard rock'},\n",
       "   {'count': 1, 'value': '70s'},\n",
       "   {'count': 1, 'value': 'queen family'},\n",
       "   {'count': 1, 'value': '90s'},\n",
       "   {'count': 1, 'value': '80s'},\n",
       "   {'count': 1, 'value': 'glam rock'},\n",
       "   {'count': 4, 'value': 'british'},\n",
       "   {'count': 1, 'value': 'english'},\n",
       "   {'count': 2, 'value': 'uk'},\n",
       "   {'count': 1, 'value': 'pop/rock'},\n",
       "   {'count': 1, 'value': 'pop-rock'},\n",
       "   {'count': 1, 'value': 'britannique'},\n",
       "   {'count': 1, 'value': 'classic pop and rock'},\n",
       "   {'count': 1, 'value': 'queen'},\n",
       "   {'count': 1, 'value': 'united kingdom'},\n",
       "   {'count': 1, 'value': 'langham 1 studio bbc'},\n",
       "   {'count': 1, 'value': 'kind of magic'},\n",
       "   {'count': 1, 'value': 'band'},\n",
       "   {'count': 6, 'value': 'rock'},\n",
       "   {'count': 1, 'value': 'platinum'}],\n",
       "  'sort_name': 'Queen',\n",
       "  'ended': True,\n",
       "  'gid': '0383dadf-2a4e-4d10-a46a-e9e041da8eb3',\n",
       "  'type': 'Group',\n",
       "  'id': 192,\n",
       "  'aliases': [{'name': '女王', 'sort_name': '女王'}]},\n",
       " {'_id': ObjectId('5ce23fb3506bf4ffeec2305f'),\n",
       "  'ended': True,\n",
       "  'gid': '5eecaf18-02ec-47af-a4f2-7831db373419',\n",
       "  'sort_name': 'Queen',\n",
       "  'id': 992994,\n",
       "  'name': 'Queen'}]"
      ]
     },
     "execution_count": 14,
     "metadata": {},
     "output_type": "execute_result"
    }
   ],
   "source": [
    "from pymongo import MongoClient\n",
    "client = MongoClient('localhost', 27017)\n",
    "db = client.nlp100\n",
    "\n",
    "find = db.artist.find({'name': 'Queen'})\n",
    "[f for f in find]"
   ]
  },
  {
   "cell_type": "markdown",
   "metadata": {},
   "source": [
    "----"
   ]
  },
  {
   "cell_type": "markdown",
   "metadata": {},
   "source": [
    " ## 66. 検索件数の取得\n",
    " MongoDBのインタラクティブシェルを用いて，活動場所が「Japan」となっているアーティスト数を求めよ．\n",
    " ## 操作\n",
    " * `$ mongo`\n",
    " * `> use nlp100`\n",
    " * `> db.artist.find({\"area\": \"Japan\"}).count()`\n",
    " * `> db.artist.find({\"area\": \"Japan\"}).length()`でもいけた\n",
    " * `> db.artist.find({\"area\": \"Japan\"}).size()`でもいけた"
   ]
  },
  {
   "cell_type": "code",
   "execution_count": 15,
   "metadata": {},
   "outputs": [
    {
     "data": {
      "text/plain": [
       "22821"
      ]
     },
     "execution_count": 15,
     "metadata": {},
     "output_type": "execute_result"
    }
   ],
   "source": [
    "from pymongo import MongoClient\n",
    "client = MongoClient('localhost', 27017)\n",
    "db = client.nlp100\n",
    "\n",
    "db.artist.count_documents({'area': 'Japan'})"
   ]
  },
  {
   "cell_type": "markdown",
   "metadata": {},
   "source": [
    "----"
   ]
  },
  {
   "cell_type": "markdown",
   "metadata": {},
   "source": [
    " ## 67. 複数のドキュメントの取得\n",
    " 特定の（指定した）別名を持つアーティストを検索せよ．"
   ]
  },
  {
   "cell_type": "code",
   "execution_count": 16,
   "metadata": {},
   "outputs": [],
   "source": [
    "from pymongo import MongoClient\n",
    "\n",
    "client = MongoClient('localhost', 27017)\n",
    "db = client.nlp100\n",
    "\n",
    "def get_artist_aliases(name):\n",
    "  find = db.artist.find({'aliases.name': name})\n",
    "  return list(find)"
   ]
  },
  {
   "cell_type": "code",
   "execution_count": 17,
   "metadata": {},
   "outputs": [
    {
     "data": {
      "text/plain": [
       "[{'_id': ObjectId('5ce23fa8506bf4ffeebfaf5b'),\n",
       "  'name': 'Queen',\n",
       "  'area': 'Japan',\n",
       "  'gender': 'Female',\n",
       "  'tags': [{'count': 1, 'value': 'kamen rider w'},\n",
       "   {'count': 1, 'value': 'related-akb48'}],\n",
       "  'sort_name': 'Queen',\n",
       "  'ended': True,\n",
       "  'gid': '420ca290-76c5-41af-999e-564d7c71f1a7',\n",
       "  'type': 'Character',\n",
       "  'id': 701492,\n",
       "  'aliases': [{'name': 'Queen', 'sort_name': 'Queen'}]}]"
      ]
     },
     "execution_count": 17,
     "metadata": {},
     "output_type": "execute_result"
    }
   ],
   "source": [
    "get_artist_aliases('Queen')"
   ]
  },
  {
   "cell_type": "markdown",
   "metadata": {},
   "source": [
    "----"
   ]
  },
  {
   "cell_type": "markdown",
   "metadata": {},
   "source": [
    " ## 68. ソート\n",
    " \"dance\"というタグを付与されたアーティストの中でレーティングの投票数が多いアーティスト・トップ10を求めよ．\n",
    " ## メモ\n",
    " * 投票数は`rating.count`\n",
    " * `> db.artist.find({\"tags.value\": \"dance\"}).sort({\"rating.count\":-1}).limit(10)"
   ]
  },
  {
   "cell_type": "code",
   "execution_count": 18,
   "metadata": {},
   "outputs": [
    {
     "data": {
      "text/plain": [
       "[('Madonna', {'count': 26, 'value': 88}),\n",
       " ('Björk', {'count': 23, 'value': 84}),\n",
       " ('The Prodigy', {'count': 23, 'value': 90}),\n",
       " ('Rihanna', {'count': 15, 'value': 68}),\n",
       " ('Britney Spears', {'count': 13, 'value': 83}),\n",
       " ('Maroon 5', {'count': 11, 'value': 60}),\n",
       " ('Adam Lambert', {'count': 7, 'value': 100}),\n",
       " ('Fatboy Slim', {'count': 7, 'value': 77}),\n",
       " ('Basement Jaxx', {'count': 6, 'value': 83}),\n",
       " ('Cornershop', {'count': 5, 'value': 68})]"
      ]
     },
     "execution_count": 18,
     "metadata": {},
     "output_type": "execute_result"
    }
   ],
   "source": [
    "from pymongo import MongoClient, DESCENDING\n",
    "client = MongoClient('localhost', 27017)\n",
    "db = client.nlp100\n",
    "\n",
    "res = db.artist.find({'tags.value': 'dance'}).sort('rating.count', DESCENDING).limit(10)\n",
    "\n",
    "[(artist['name'], artist['rating']) for artist in res]"
   ]
  },
  {
   "cell_type": "markdown",
   "metadata": {},
   "source": [
    "----"
   ]
  },
  {
   "cell_type": "markdown",
   "metadata": {},
   "source": [
    " ## 69. Webアプリケーションの作成\n",
    " ユーザから入力された検索条件に合致するアーティストの情報を表示するWebアプリケーションを作成せよ．アーティスト名，アーティストの別名，タグ等で検索条件を指定し，アーティスト情報のリストをレーティングの高い順などで整列して表示せよ．\n",
    " ## サーバー側\n",
    " * `Flask`というPythonのwebフレームワークを使う\n",
    " ### 環境構築\n",
    " * `$ pip install flask`\n",
    " ## クライアント側\n",
    " * `Vue.js`というJavaScriptフレームワークを使う\n",
    " * `templete`・`script`・`style`の3つに分けてHTMLとJavaScriptのコードを記述することができる\n",
    " * DOMの構造を直接いじることなく、リアクティブな変更を行うことができる\n",
    " ### 環境構築\n",
    " * Vue.jsのプロジェクトを作る時は`vue cli`というツールを使うのがオススメ\n",
    " * 使うにはNode.jsをインストールするときに付属してくる`npm`(Pythonでいうところの`pip`)が必要\n",
    " * Nodeのインストール方法は省略\n",
    " * `$ npm install -g @vue/cli`\n",
    " * `$ vue create nlp100-69`\n",
    " * これでVue.jsのプロジェクトの雛形が作成される\n",
    " * サーバーとのやりとりのために`axios`というライブラリを使う\n",
    " * `$ npm install axios`"
   ]
  }
 ],
 "metadata": {
  "file_extension": ".py",
  "kernelspec": {
   "display_name": "Python 3",
   "language": "python",
   "name": "python3"
  },
  "language_info": {
   "codemirror_mode": {
    "name": "ipython",
    "version": 3
   },
   "file_extension": ".py",
   "mimetype": "text/x-python",
   "name": "python",
   "nbconvert_exporter": "python",
   "pygments_lexer": "ipython3",
   "version": "3.7.0"
  },
  "mimetype": "text/x-python",
  "name": "python",
  "npconvert_exporter": "python",
  "pygments_lexer": "ipython3",
  "version": 3
 },
 "nbformat": 4,
 "nbformat_minor": 2
}
